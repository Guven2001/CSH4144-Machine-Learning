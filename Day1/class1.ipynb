{
 "cells": [
  {
   "cell_type": "code",
   "execution_count": 1,
   "id": "f8acc4d1-58e8-4957-afcc-55d42177cda0",
   "metadata": {},
   "outputs": [
    {
     "name": "stdout",
     "output_type": "stream",
     "text": [
      "Hello\n"
     ]
    }
   ],
   "source": [
    "print(\"Hello\")"
   ]
  },
  {
   "cell_type": "code",
   "execution_count": 2,
   "id": "50591c48-aec5-4447-9b6c-470e53e7e6d5",
   "metadata": {},
   "outputs": [
    {
     "name": "stdout",
     "output_type": "stream",
     "text": [
      "5\n"
     ]
    }
   ],
   "source": [
    "#print integer\n",
    "x=5\n",
    "print(x)"
   ]
  },
  {
   "cell_type": "code",
   "execution_count": 3,
   "id": "4e135be8-1b10-477f-8805-4eaa05b51636",
   "metadata": {},
   "outputs": [
    {
     "name": "stdout",
     "output_type": "stream",
     "text": [
      "Mam\n"
     ]
    }
   ],
   "source": [
    "#print String\n",
    "x=\"Mam\"\n",
    "print(x)"
   ]
  },
  {
   "cell_type": "code",
   "execution_count": 4,
   "id": "41a0874c-2633-4363-91cc-372a25c7825d",
   "metadata": {},
   "outputs": [
    {
     "name": "stdout",
     "output_type": "stream",
     "text": [
      "<class 'int'>\n"
     ]
    }
   ],
   "source": [
    "#print DataType\n",
    "a=4\n",
    "print(type(a))"
   ]
  },
  {
   "cell_type": "code",
   "execution_count": 5,
   "id": "7b12d6dc-b72c-4270-8258-acee51cfda74",
   "metadata": {},
   "outputs": [
    {
     "name": "stdout",
     "output_type": "stream",
     "text": [
      "<class 'str'>\n"
     ]
    }
   ],
   "source": [
    "b=\"Machine\"\n",
    "print(type(b))"
   ]
  },
  {
   "cell_type": "code",
   "execution_count": 6,
   "id": "59e8e53a-bb27-4743-9dd4-17de2918742d",
   "metadata": {},
   "outputs": [
    {
     "name": "stdout",
     "output_type": "stream",
     "text": [
      "<class 'str'>\n"
     ]
    }
   ],
   "source": [
    "c='Learning'\n",
    "print(type(c))\n",
    "# \"\" & '' are for string data type "
   ]
  },
  {
   "cell_type": "code",
   "execution_count": 7,
   "id": "b7908fc8-67a4-426a-a754-42311732f89a",
   "metadata": {},
   "outputs": [
    {
     "name": "stdout",
     "output_type": "stream",
     "text": [
      "<class 'float'>\n"
     ]
    }
   ],
   "source": [
    "d=4.5\n",
    "print(type(d))"
   ]
  },
  {
   "cell_type": "code",
   "execution_count": 8,
   "id": "db0dfe63-d10d-4b1e-aed4-b416b67be87f",
   "metadata": {},
   "outputs": [
    {
     "name": "stdout",
     "output_type": "stream",
     "text": [
      "Addition:  9\n",
      "Subtraction:  1\n",
      "Multiplication:  20\n",
      "Division:  1.25\n"
     ]
    }
   ],
   "source": [
    "# ausing arithmetic operators print the values\n",
    "a=5\n",
    "b=4\n",
    "add= a+b\n",
    "sub= a-b\n",
    "mul= a*b\n",
    "div= a/b\n",
    "print(\"Addition: \",add)\n",
    "print(\"Subtraction: \",sub)\n",
    "print(\"Multiplication: \",mul)\n",
    "print(\"Division: \",div)"
   ]
  },
  {
   "cell_type": "code",
   "execution_count": 10,
   "id": "62fe95d9-1328-4484-b4da-d139e43ba2ce",
   "metadata": {},
   "outputs": [
    {
     "name": "stdout",
     "output_type": "stream",
     "text": [
      "Kamal Vimal Ram\n"
     ]
    }
   ],
   "source": [
    "name=\"Kamal\"\n",
    "Name=\"Vimal\"\n",
    "NAME=\"Ram\"\n",
    "print(name,Name,NAME)"
   ]
  },
  {
   "cell_type": "code",
   "execution_count": 11,
   "id": "98f51415-92ba-4b24-83e2-7ed1f075d5a4",
   "metadata": {},
   "outputs": [
    {
     "name": "stdout",
     "output_type": "stream",
     "text": [
      "68\n"
     ]
    }
   ],
   "source": [
    "age=19\n",
    "Age=24\n",
    "AGE=25\n",
    "print(age+Age+AGE)\n",
    "#We can add smae Datatype only"
   ]
  },
  {
   "cell_type": "code",
   "execution_count": 12,
   "id": "6bcb2e5b-f436-4af8-9351-23873cb28a1d",
   "metadata": {},
   "outputs": [
    {
     "name": "stdout",
     "output_type": "stream",
     "text": [
      "Best\n"
     ]
    }
   ],
   "source": [
    "a=\"Best\"\n",
    "def functionName():\n",
    "    print(a)\n",
    "functionName()"
   ]
  },
  {
   "cell_type": "code",
   "execution_count": 13,
   "id": "a0d57c9f-0cc3-4550-95d1-a67bbb715bf6",
   "metadata": {},
   "outputs": [
    {
     "name": "stdout",
     "output_type": "stream",
     "text": [
      "a is greater than b\n"
     ]
    }
   ],
   "source": [
    "#If Else condition\n",
    "a=5\n",
    "b=4\n",
    "if b>a:\n",
    "    print(\"b is greater than a\")\n",
    "elif a==b:\n",
    "    print(\"a is equal to b\")\n",
    "else:\n",
    "    print(\"a is greater than b\")"
   ]
  },
  {
   "cell_type": "code",
   "execution_count": 14,
   "id": "f01d68d8-3285-4890-9422-ee7e49ecbc02",
   "metadata": {},
   "outputs": [
    {
     "name": "stdout",
     "output_type": "stream",
     "text": [
      "1\n",
      "2\n",
      "3\n",
      "4\n"
     ]
    }
   ],
   "source": [
    "#While Loop\n",
    "i=1\n",
    "while i<5:\n",
    "    print(i)\n",
    "    i +=1"
   ]
  },
  {
   "cell_type": "code",
   "execution_count": 15,
   "id": "638dba32-a0e3-4fa0-8d6b-05cf86e79bef",
   "metadata": {},
   "outputs": [
    {
     "name": "stdout",
     "output_type": "stream",
     "text": [
      "Table\n",
      "Chair\n",
      "Laptop\n"
     ]
    }
   ],
   "source": [
    "#For Loop\n",
    "Things =[\"Table\",\"Chair\",\"Laptop\"]\n",
    "for x in Things:\n",
    "    print(x)"
   ]
  },
  {
   "cell_type": "code",
   "execution_count": 16,
   "id": "32583560-a3b4-4092-b623-f63a10cd6570",
   "metadata": {},
   "outputs": [
    {
     "ename": "SyntaxError",
     "evalue": "expected ':' (2738772411.py, line 1)",
     "output_type": "error",
     "traceback": [
      "\u001b[1;36m  Cell \u001b[1;32mIn[16], line 1\u001b[1;36m\u001b[0m\n\u001b[1;33m    for x in \"LAPTOP\"\u001b[0m\n\u001b[1;37m                     ^\u001b[0m\n\u001b[1;31mSyntaxError\u001b[0m\u001b[1;31m:\u001b[0m expected ':'\n"
     ]
    }
   ],
   "source": [
    "for x in \"LAPTOP\"\n",
    "    print(x)"
   ]
  },
  {
   "cell_type": "code",
   "execution_count": 17,
   "id": "8ce8430b-62a8-4b86-b378-1a63a9040b5e",
   "metadata": {},
   "outputs": [
    {
     "name": "stdout",
     "output_type": "stream",
     "text": [
      "L\n",
      "A\n",
      "P\n",
      "T\n",
      "O\n",
      "P\n"
     ]
    }
   ],
   "source": [
    "for x in \"LAPTOP\":\n",
    "    print(x)"
   ]
  },
  {
   "cell_type": "code",
   "execution_count": 18,
   "id": "5ccbe389-5ced-4ad6-934d-c5a3391c2021",
   "metadata": {},
   "outputs": [
    {
     "ename": "SyntaxError",
     "evalue": "expected ':' (3156911123.py, line 2)",
     "output_type": "error",
     "traceback": [
      "\u001b[1;36m  Cell \u001b[1;32mIn[18], line 2\u001b[1;36m\u001b[0m\n\u001b[1;33m    for x in Things\u001b[0m\n\u001b[1;37m                   ^\u001b[0m\n\u001b[1;31mSyntaxError\u001b[0m\u001b[1;31m:\u001b[0m expected ':'\n"
     ]
    }
   ],
   "source": [
    "Things=[\"Table\",\"Chair\",\"Laptop\"]\n",
    "for x in Things\n",
    "    print(x)\n",
    "    if x==\"Chair\":\n",
    "        break"
   ]
  },
  {
   "cell_type": "code",
   "execution_count": 19,
   "id": "512c1f3b-cf1b-488d-b92c-85dfcbb0825b",
   "metadata": {},
   "outputs": [
    {
     "name": "stdout",
     "output_type": "stream",
     "text": [
      "Table\n",
      "Chair\n"
     ]
    }
   ],
   "source": [
    "#Break\n",
    "Things=[\"Table\",\"Chair\",\"Laptop\"]\n",
    "for x in Things:\n",
    "    print(x)\n",
    "    if x==\"Chair\":\n",
    "        break"
   ]
  },
  {
   "cell_type": "code",
   "execution_count": 20,
   "id": "0d54caec-1e47-41f8-932f-56a86e41e68e",
   "metadata": {},
   "outputs": [
    {
     "ename": "SyntaxError",
     "evalue": "expected ':' (821510560.py, line 2)",
     "output_type": "error",
     "traceback": [
      "\u001b[1;36m  Cell \u001b[1;32mIn[20], line 2\u001b[1;36m\u001b[0m\n\u001b[1;33m    for x in Things\u001b[0m\n\u001b[1;37m                   ^\u001b[0m\n\u001b[1;31mSyntaxError\u001b[0m\u001b[1;31m:\u001b[0m expected ':'\n"
     ]
    }
   ],
   "source": [
    "Things =[\"Table\", \"Chair\",\"Laptop\"]\n",
    "for x in Things\n",
    "    print(x)\n",
    "    if x==\"Chair\"\n",
    "        continue"
   ]
  },
  {
   "cell_type": "code",
   "execution_count": 21,
   "id": "7748a924-92a1-44b7-9ad6-e0dbf7380726",
   "metadata": {},
   "outputs": [
    {
     "ename": "SyntaxError",
     "evalue": "expected ':' (545105370.py, line 2)",
     "output_type": "error",
     "traceback": [
      "\u001b[1;36m  Cell \u001b[1;32mIn[21], line 2\u001b[1;36m\u001b[0m\n\u001b[1;33m    for x in Things\u001b[0m\n\u001b[1;37m                   ^\u001b[0m\n\u001b[1;31mSyntaxError\u001b[0m\u001b[1;31m:\u001b[0m expected ':'\n"
     ]
    }
   ],
   "source": [
    "Things =[\"Table\", \"Chair\",\"Laptop\"]\n",
    "for x in Things\n",
    "    print(x)\n",
    "    if x==\"Chair\":\n",
    "        continue"
   ]
  },
  {
   "cell_type": "code",
   "execution_count": 22,
   "id": "3b74fe9f-889b-411b-a202-dae81e221b58",
   "metadata": {},
   "outputs": [
    {
     "name": "stdout",
     "output_type": "stream",
     "text": [
      "Table\n",
      "Chair\n",
      "Laptop\n"
     ]
    }
   ],
   "source": [
    "Things =[\"Table\", \"Chair\",\"Laptop\"]\n",
    "for x in Things:\n",
    "    print(x)\n",
    "    if x==\"Chair\":\n",
    "        continue"
   ]
  },
  {
   "cell_type": "code",
   "execution_count": 23,
   "id": "65fbd883-cd7c-462a-a71b-12d83751a23c",
   "metadata": {},
   "outputs": [
    {
     "name": "stdout",
     "output_type": "stream",
     "text": [
      "Table\n",
      "Laptop\n"
     ]
    }
   ],
   "source": [
    "# Continue\n",
    "Things =[\"Table\", \"Chair\",\"Laptop\"]\n",
    "for x in Things:\n",
    "  if x==\"Chair\":\n",
    "    continue\n",
    "  print(x)"
   ]
  },
  {
   "cell_type": "code",
   "execution_count": 24,
   "id": "94ca8154-08a3-4009-93d9-77df857ecb86",
   "metadata": {},
   "outputs": [
    {
     "name": "stdout",
     "output_type": "stream",
     "text": [
      "1\n",
      "2\n",
      "3\n",
      "4\n"
     ]
    }
   ],
   "source": [
    "for x in range(1,5):\n",
    "    print(x)"
   ]
  },
  {
   "cell_type": "code",
   "execution_count": 25,
   "id": "79505e67-8f4f-45b6-a70c-b3c9c4daf9bd",
   "metadata": {},
   "outputs": [
    {
     "name": "stdout",
     "output_type": "stream",
     "text": [
      "1 Table\n",
      "1 Chair\n",
      "1 Laptop\n",
      "2 Table\n",
      "2 Chair\n",
      "2 Laptop\n",
      "3 Table\n",
      "3 Chair\n",
      "3 Laptop\n"
     ]
    }
   ],
   "source": [
    "Num=[1,2,3]\n",
    "Things=[\"Table\", \"Chair\", \"Laptop\"]\n",
    "for x in Num:\n",
    "    for y in Things:\n",
    "        print(x,y)"
   ]
  },
  {
   "cell_type": "code",
   "execution_count": 27,
   "id": "61e82b0b-091d-4139-9e74-e6d35e222c4b",
   "metadata": {},
   "outputs": [
    {
     "name": "stdout",
     "output_type": "stream",
     "text": [
      "Hi I am varsha\n"
     ]
    }
   ],
   "source": [
    "def functionname(name):\n",
    "    print(\"Hi I am \"+ name)\n",
    "functionname(\"varsha\")"
   ]
  },
  {
   "cell_type": "code",
   "execution_count": 28,
   "id": "8d99593a-10e3-4370-8c54-18f3ef9b5fd8",
   "metadata": {},
   "outputs": [
    {
     "name": "stdout",
     "output_type": "stream",
     "text": [
      "Median:  5\n",
      "Mode:  1\n",
      "Standard Diviation:  2.7386127875258306\n",
      "Mean:  5\n"
     ]
    }
   ],
   "source": [
    "from statistics import median,mode,stdev,mean\n",
    "data = [1,2,3,4,5,6,7,8,9]\n",
    "\n",
    "result = median(data)\n",
    "print(\"Median: \",result)\n",
    "\n",
    "result = mode(data)\n",
    "print(\"Mode: \",result)\n",
    "\n",
    "result = stdev(data)\n",
    "print(\"Standard Diviation: \",result)\n",
    "\n",
    "result = mean(data)\n",
    "print(\"Mean: \",result)\n"
   ]
  },
  {
   "cell_type": "code",
   "execution_count": null,
   "id": "6e1b697d-a45c-475e-800d-4da3bd7f38ba",
   "metadata": {},
   "outputs": [],
   "source": []
  }
 ],
 "metadata": {
  "kernelspec": {
   "display_name": "Python 3 (ipykernel)",
   "language": "python",
   "name": "python3"
  },
  "language_info": {
   "codemirror_mode": {
    "name": "ipython",
    "version": 3
   },
   "file_extension": ".py",
   "mimetype": "text/x-python",
   "name": "python",
   "nbconvert_exporter": "python",
   "pygments_lexer": "ipython3",
   "version": "3.13.5"
  }
 },
 "nbformat": 4,
 "nbformat_minor": 5
}
